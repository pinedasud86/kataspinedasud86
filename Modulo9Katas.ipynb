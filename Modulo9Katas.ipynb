{
 "cells": [
  {
   "cell_type": "markdown",
   "metadata": {},
   "source": [
    "# Ejercicio: Uso de funciones en Python"
   ]
  },
  {
   "cell_type": "code",
   "execution_count": 37,
   "metadata": {},
   "outputs": [
    {
     "name": "stdout",
     "output_type": "stream",
     "text": [
      "Reporte de Combustible:\n",
      "    Promedio Total: 78.33333333333333%\n",
      "    Tanque Principal: 80%\n",
      "    Tanque Externo: 70%\n",
      "    Tanque Hidrogeno: 85% \n",
      "    \n",
      "Reporte de Combustible:\n",
      "    Promedio Total: 78.0%\n",
      "    Tanque Principal: 88%\n",
      "    Tanque Externo: 76%\n",
      "    Tanque Hidrogeno: 70% \n",
      "    \n"
     ]
    }
   ],
   "source": [
    "def generar_reporte(tanque_ppal, tanque_externo, tanque_hidrogeno):\n",
    "    promedio_total = (tanque_ppal + tanque_externo + tanque_hidrogeno) / 3\n",
    "    return f\"\"\"Reporte de Combustible:\n",
    "    Promedio Total: {promedio_total}%\n",
    "    Tanque Principal: {tanque_ppal}%\n",
    "    Tanque Externo: {tanque_externo}%\n",
    "    Tanque Hidrogeno: {tanque_hidrogeno}% \n",
    "    \"\"\"\n",
    "\n",
    "print(generar_reporte(80, 70, 85))\n",
    "\n",
    "def promedio(values):\n",
    "    total = sum(values)\n",
    "    elementos = len(values)\n",
    "    return total / elementos\n",
    "\n",
    "promedio([80, 85, 81]) \n",
    "\n",
    "def generar_reporte(tanque_ppal, tanque_externo, tanque_hidrogeno):\n",
    "    return f\"\"\"Reporte de Combustible:\n",
    "    Promedio Total: {promedio([tanque_ppal, tanque_externo, tanque_hidrogeno])}%\n",
    "    Tanque Principal: {tanque_ppal}%\n",
    "    Tanque Externo: {tanque_externo}%\n",
    "    Tanque Hidrogeno: {tanque_hidrogeno}% \n",
    "    \"\"\"\n",
    "\n",
    "print(generar_reporte(88, 76, 70))"
   ]
  },
  {
   "cell_type": "markdown",
   "metadata": {},
   "source": [
    "# Ejercicio 2: Trabajo con argumentos de palabra clave"
   ]
  },
  {
   "cell_type": "code",
   "execution_count": 38,
   "metadata": {},
   "outputs": [
    {
     "name": "stdout",
     "output_type": "stream",
     "text": [
      "\n",
      "    Misión a Luna\n",
      "    Tiempo de Viaje: 65 minutos.\n",
      "    Combustible restante: 500000 galones.\n",
      "    \n",
      "\n",
      "    Misión a Luna\n",
      "    Tiempo de Viaje: 76 minutos.\n",
      "    Combustible restante: 500000 galones.\n",
      "    \n",
      "\n",
      "    Misión a Luna\n",
      "    Tiempo de Viaje: 74 minutos.\n",
      "    Combustible restante: 500000 galones.\n",
      "    \n",
      "Tanque principal --> 300000 galones restantes\n",
      "Tanque externo --> 200000 galones restantes\n"
     ]
    }
   ],
   "source": [
    "def Reporte_Mision(Tiempo_Prelanzamiento, Tiempo_Vuelo, Destino, tanque_externo, tanque_ppal):\n",
    "    return f\"\"\"\n",
    "    Misión a {Destino}\n",
    "    Tiempo de Viaje: {Tiempo_Prelanzamiento + Tiempo_Vuelo} minutos.\n",
    "    Combustible restante: {tanque_externo + tanque_ppal} galones.\n",
    "    \"\"\"\n",
    "\n",
    "print(Reporte_Mision(14, 51, \"Luna\", 200000, 300000))\n",
    "\n",
    "def Reporte_Mision(Destino, *minutos, **reservas):\n",
    "    return f\"\"\"\n",
    "    Misión a {Destino}\n",
    "    Tiempo de Viaje: {sum(minutos)} minutos.\n",
    "    Combustible restante: {sum(reservas.values())} galones.\n",
    "    \"\"\"\n",
    "\n",
    "print(Reporte_Mision(\"Luna\", 10, 15, 51, principal=300000, externo=200000))\n",
    "\n",
    "def Reporte_Mision(Destino, *minutos, **reservas):\n",
    "    reporte_ppal = f\"\"\"\n",
    "    Misión a {Destino}\n",
    "    Tiempo de Viaje: {sum(minutos)} minutos.\n",
    "    Combustible restante: {sum(reservas.values())} galones.\n",
    "    \"\"\"\n",
    "    for nombre_tanque, capacidad in reservas.items():\n",
    "        reporte_ppal += f\"\\nTanque {nombre_tanque} --> {capacidad} galones restantes\"\n",
    "    return reporte_ppal\n",
    "\n",
    "print(Reporte_Mision(\"Luna\", 8, 11, 55, principal=300000, externo=200000))"
   ]
  }
 ],
 "metadata": {
  "interpreter": {
   "hash": "0a4705f6b2cbc9980ef8a97f9d4e9ce659c1b5baf8f492f8dd00dc3c701e9191"
  },
  "kernelspec": {
   "display_name": "Python 3.9.10 64-bit (windows store)",
   "language": "python",
   "name": "python3"
  },
  "language_info": {
   "name": "python",
   "version": "3.9.10"
  },
  "orig_nbformat": 4
 },
 "nbformat": 4,
 "nbformat_minor": 2
}
