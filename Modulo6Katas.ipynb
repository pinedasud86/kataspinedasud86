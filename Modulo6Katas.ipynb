{
 "cells": [
  {
   "cell_type": "markdown",
   "metadata": {},
   "source": [
    "# Ejercicio1: Crear y usar listas de Python"
   ]
  },
  {
   "cell_type": "code",
   "execution_count": 1,
   "metadata": {},
   "outputs": [
    {
     "name": "stdout",
     "output_type": "stream",
     "text": [
      "Hay  8 planetas\n",
      "Pluton es el último planeta\n",
      "Ahora hay  9 planetas\n"
     ]
    }
   ],
   "source": [
    "planetas = ['Mercurio', 'Venus', 'Tierra', 'Marte', 'Jupiter', 'Saturno', 'Urano', 'Neptuno']\n",
    "\n",
    "print(\"Hay \", len(planetas), \"planetas\")\n",
    "\n",
    "planetas.append('Pluton')\n",
    "\n",
    "print(planetas[-1],\"es el último planeta\")\n",
    "\n",
    "print(\"Ahora hay \", len(planetas), \"planetas\")"
   ]
  },
  {
   "cell_type": "markdown",
   "metadata": {},
   "source": [
    "# Ejercicio 2: Trabajando con datos de una lista"
   ]
  },
  {
   "cell_type": "code",
   "execution_count": 2,
   "metadata": {},
   "outputs": [
    {
     "name": "stdout",
     "output_type": "stream",
     "text": [
      "Estos planetas estan más cerca al Sol que Tierra\n",
      "['Mercurio', 'Venus']\n",
      "Y estos los mas lejanos al Sol que Tierra\n",
      "['Marte', 'Jupiter', 'Saturno', 'Urano', 'Neptuno']\n"
     ]
    }
   ],
   "source": [
    "planetas = ['Mercurio', 'Venus', 'Tierra', 'Marte', 'Jupiter', 'Saturno', 'Urano', 'Neptuno']\n",
    "busca_planeta = input('Ingrese el nombre del planeta (con Mayus inicial)')\n",
    "indice_planetas = planetas.index(busca_planeta)\n",
    "print(\"Estos planetas estan más cerca al Sol que \" + busca_planeta)\n",
    "print(planetas[0:indice_planetas])\n",
    "print(\"Y estos los mas lejanos al Sol que \" + busca_planeta)\n",
    "print(planetas[indice_planetas + 1:])"
   ]
  }
 ],
 "metadata": {
  "interpreter": {
   "hash": "0a4705f6b2cbc9980ef8a97f9d4e9ce659c1b5baf8f492f8dd00dc3c701e9191"
  },
  "kernelspec": {
   "display_name": "Python 3.9.10 64-bit (windows store)",
   "language": "python",
   "name": "python3"
  },
  "language_info": {
   "codemirror_mode": {
    "name": "ipython",
    "version": 3
   },
   "file_extension": ".py",
   "mimetype": "text/x-python",
   "name": "python",
   "nbconvert_exporter": "python",
   "pygments_lexer": "ipython3",
   "version": "3.9.10"
  },
  "orig_nbformat": 4
 },
 "nbformat": 4,
 "nbformat_minor": 2
}
