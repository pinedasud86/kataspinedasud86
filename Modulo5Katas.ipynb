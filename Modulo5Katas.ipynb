{
 "cells": [
  {
   "cell_type": "markdown",
   "metadata": {},
   "source": [
    "# Ejercicio1 - Utilizar operadores aritméticos"
   ]
  },
  {
   "cell_type": "code",
   "execution_count": 8,
   "metadata": {},
   "outputs": [
    {
     "name": "stdout",
     "output_type": "stream",
     "text": [
      "Distancia en KM:  628949330\n",
      "Distancia en MILLAS:  390577533.93\n"
     ]
    }
   ],
   "source": [
    "#Tierra (149.597.870 km) y Júpiter (778.547.200 km).\n",
    "planeta1=149597870\n",
    "planeta2=778547200\n",
    "\n",
    "distancia_km = planeta2 - planeta1\n",
    "print(\"Distancia en KM: \" , distancia_km)\n",
    "\n",
    "distancia_millas = distancia_km * 0.621\n",
    "print(\"Distancia en MILLAS: \" , distancia_millas)"
   ]
  },
  {
   "cell_type": "markdown",
   "metadata": {},
   "source": [
    "# Ejercicio 2: convierte cadenas en números y usa valores absolutos"
   ]
  },
  {
   "cell_type": "code",
   "execution_count": 3,
   "metadata": {},
   "outputs": [
    {
     "name": "stdout",
     "output_type": "stream",
     "text": [
      "Distancia en KM:  -99000\n",
      "Distancia en MILLAS:  61479.0\n"
     ]
    }
   ],
   "source": [
    "planeta1 = input('Distancia del sol para el planeta 1 (KM)')\n",
    "planeta2 = input('Distancia del sol para el planeta 2 (KM)')\n",
    "\n",
    "planeta1 = int(planeta1)\n",
    "planeta2 = int(planeta2)\n",
    "\n",
    "distancia_km = planeta2 - planeta1\n",
    "print(\"Distancia en KM: \" , distancia_km)\n",
    "\n",
    "distancia_millas = distancia_km * 0.621\n",
    "print(\"Distancia en MILLAS: \" , abs(distancia_millas))"
   ]
  },
  {
   "cell_type": "code",
   "execution_count": null,
   "metadata": {},
   "outputs": [],
   "source": []
  }
 ],
 "metadata": {
  "interpreter": {
   "hash": "0a4705f6b2cbc9980ef8a97f9d4e9ce659c1b5baf8f492f8dd00dc3c701e9191"
  },
  "kernelspec": {
   "display_name": "Python 3.9.10 64-bit (windows store)",
   "language": "python",
   "name": "python3"
  },
  "language_info": {
   "codemirror_mode": {
    "name": "ipython",
    "version": 3
   },
   "file_extension": ".py",
   "mimetype": "text/x-python",
   "name": "python",
   "nbconvert_exporter": "python",
   "pygments_lexer": "ipython3",
   "version": "3.9.10"
  },
  "orig_nbformat": 4
 },
 "nbformat": 4,
 "nbformat_minor": 2
}
